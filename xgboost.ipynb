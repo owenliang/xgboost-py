{
 "cells": [
  {
   "cell_type": "code",
   "execution_count": 58,
   "metadata": {},
   "outputs": [
    {
     "name": "stdout",
     "output_type": "stream",
     "text": [
      "Looking in indexes: https://mirrors.aliyun.com/pypi/simple/\n",
      "Requirement already satisfied: numpy in c:\\users\\owen\\documents\\vscode\\xgboost-py\\.conda\\lib\\site-packages (2.1.1)\n",
      "Requirement already satisfied: pandas in c:\\users\\owen\\documents\\vscode\\xgboost-py\\.conda\\lib\\site-packages (2.2.3)\n",
      "Requirement already satisfied: matplotlib in c:\\users\\owen\\documents\\vscode\\xgboost-py\\.conda\\lib\\site-packages (3.9.2)\n",
      "Requirement already satisfied: graphviz in c:\\users\\owen\\documents\\vscode\\xgboost-py\\.conda\\lib\\site-packages (0.20.3)\n",
      "Requirement already satisfied: scikit-learn in c:\\users\\owen\\documents\\vscode\\xgboost-py\\.conda\\lib\\site-packages (1.5.2)\n",
      "Requirement already satisfied: xgboost in c:\\users\\owen\\documents\\vscode\\xgboost-py\\.conda\\lib\\site-packages (2.1.1)\n",
      "Requirement already satisfied: python-dateutil>=2.8.2 in c:\\users\\owen\\documents\\vscode\\xgboost-py\\.conda\\lib\\site-packages (from pandas) (2.9.0)\n",
      "Requirement already satisfied: pytz>=2020.1 in c:\\users\\owen\\documents\\vscode\\xgboost-py\\.conda\\lib\\site-packages (from pandas) (2024.2)\n",
      "Requirement already satisfied: tzdata>=2022.7 in c:\\users\\owen\\documents\\vscode\\xgboost-py\\.conda\\lib\\site-packages (from pandas) (2024.2)\n",
      "Requirement already satisfied: contourpy>=1.0.1 in c:\\users\\owen\\documents\\vscode\\xgboost-py\\.conda\\lib\\site-packages (from matplotlib) (1.3.0)\n",
      "Requirement already satisfied: cycler>=0.10 in c:\\users\\owen\\documents\\vscode\\xgboost-py\\.conda\\lib\\site-packages (from matplotlib) (0.12.1)\n",
      "Requirement already satisfied: fonttools>=4.22.0 in c:\\users\\owen\\documents\\vscode\\xgboost-py\\.conda\\lib\\site-packages (from matplotlib) (4.54.1)\n",
      "Requirement already satisfied: kiwisolver>=1.3.1 in c:\\users\\owen\\documents\\vscode\\xgboost-py\\.conda\\lib\\site-packages (from matplotlib) (1.4.7)\n",
      "Requirement already satisfied: packaging>=20.0 in c:\\users\\owen\\documents\\vscode\\xgboost-py\\.conda\\lib\\site-packages (from matplotlib) (24.1)\n",
      "Requirement already satisfied: pillow>=8 in c:\\users\\owen\\documents\\vscode\\xgboost-py\\.conda\\lib\\site-packages (from matplotlib) (10.4.0)\n",
      "Requirement already satisfied: pyparsing>=2.3.1 in c:\\users\\owen\\documents\\vscode\\xgboost-py\\.conda\\lib\\site-packages (from matplotlib) (3.1.4)\n",
      "Requirement already satisfied: scipy>=1.6.0 in c:\\users\\owen\\documents\\vscode\\xgboost-py\\.conda\\lib\\site-packages (from scikit-learn) (1.14.1)\n",
      "Requirement already satisfied: joblib>=1.2.0 in c:\\users\\owen\\documents\\vscode\\xgboost-py\\.conda\\lib\\site-packages (from scikit-learn) (1.4.2)\n",
      "Requirement already satisfied: threadpoolctl>=3.1.0 in c:\\users\\owen\\documents\\vscode\\xgboost-py\\.conda\\lib\\site-packages (from scikit-learn) (3.5.0)\n",
      "Requirement already satisfied: six>=1.5 in c:\\users\\owen\\documents\\vscode\\xgboost-py\\.conda\\lib\\site-packages (from python-dateutil>=2.8.2->pandas) (1.16.0)\n"
     ]
    }
   ],
   "source": [
    "!pip install numpy pandas matplotlib graphviz scikit-learn xgboost  -i https://mirrors.aliyun.com/pypi/simple/"
   ]
  },
  {
   "cell_type": "markdown",
   "metadata": {},
   "source": [
    "参考资料：\n",
    "\n",
    "* 文字：https://www.zhihu.com/question/58883125/answer/2551395292\n",
    "* 视频：https://www.bilibili.com/video/BV1Zk4y1F7JE/\n",
    "* 代码：https://randomrealizations.com/posts/xgboost-from-scratch/ "
   ]
  },
  {
   "cell_type": "code",
   "execution_count": 59,
   "metadata": {},
   "outputs": [],
   "source": [
    "import math\n",
    "import numpy as np \n",
    "import pandas as pd\n",
    "from collections import defaultdict\n",
    "import xgboost as xgb\n",
    "import matplotlib.pyplot as plt\n",
    "from graphviz import Digraph"
   ]
  },
  {
   "cell_type": "markdown",
   "metadata": {},
   "source": [
    "# Tree"
   ]
  },
  {
   "cell_type": "code",
   "execution_count": 60,
   "metadata": {},
   "outputs": [],
   "source": [
    "# 代表一颗树中的某个node\n",
    "class TreeBooster():\n",
    "    def __init__(self, X, g, h, params, max_depth, idxs=None):\n",
    "        # 各种超参数\n",
    "        self.params = params\n",
    "        self.max_depth = max_depth\n",
    "        assert self.max_depth >= 0, 'max_depth must be nonnegative'\n",
    "        \n",
    "        self.learning_rate = self.params['learning_rate'] if self.params['learning_rate'] else 0.3\n",
    "        \n",
    "        self.min_child_weight = params['min_child_weight'] if params['min_child_weight'] else 1.0  \n",
    "        self.colsample_bynode = params['colsample_bynode'] if params['colsample_bynode'] else 1.0\n",
    "        \n",
    "        self.reg_lambda = params['reg_lambda'] if params['reg_lambda'] else 1.0 # λ超参，公式的重要部分\n",
    "        self.gamma = params['gamma'] if params['gamma'] else 0.0 # γ超参，公式的重要部分\n",
    "        \n",
    "        # 每个样本的Loss一阶导数，常数\n",
    "        if isinstance(g, pd.Series):\n",
    "            g = g.values\n",
    "        # 每个样本的Loss二阶导数，常数\n",
    "        if isinstance(h, pd.Series): \n",
    "            h = h.values\n",
    "            \n",
    "        # 参与训练的样本index，默认所有\n",
    "        if idxs is None: \n",
    "            idxs = np.arange(len(g))\n",
    "            \n",
    "        # X：特征   g：Loss一阶导数   h：Loss二阶导数，idxs：参与训练的样本index\n",
    "        self.X, self.g, self.h, self.idxs = X, g, h, idxs\n",
    "        \n",
    "        # n：样本数, c：特征数\n",
    "        self.n, self.c = len(idxs), X.shape[1] \n",
    "        \n",
    "        # Tree目标最小化的时候，Wj的取值计算.\n",
    "        # 如果当前Node就是叶子，那么其Wj就是所有传入的样本计算而成的\n",
    "        self.value = -g[idxs].sum() / (h[idxs].sum() + self.reg_lambda)\n",
    "        self.best_score_so_far = 0.\n",
    "        self.is_leaf=True\n",
    "        \n",
    "        # 如果允许分裂节点，那么就继续递归\n",
    "        if self.max_depth > 0:\n",
    "            self._maybe_insert_child_nodes() # 为当前节点找到一个分裂条件，产生左右两颗子树，让样本落入两颗子树，每颗子树又可以继续更新自己的Wj或者继续递归分裂\n",
    "\n",
    "    def _maybe_insert_child_nodes(self):\n",
    "        # 遍历每一个特征，判断是否适合作为分裂条件\n",
    "        for i in range(self.c):\n",
    "            self._find_better_split(i)\n",
    "        \n",
    "        # 没找到合适的分裂点，那么就不分裂了，自己就是叶子，直接用value作为W值\n",
    "        if self.is_leaf: \n",
    "            return\n",
    "\n",
    "        # 作为分裂条件的特征\n",
    "        x = self.X.values[self.idxs,self.split_feature_idx]\n",
    "        \n",
    "        # <=分裂点的落入左子树\n",
    "        left_idx = np.nonzero(x <= self.threshold)[0]\n",
    "        # 其他落入右子树\n",
    "        right_idx = np.nonzero(x > self.threshold)[0]\n",
    "        # 递归构建左右子树\n",
    "        self.left = TreeBooster(self.X, self.g, self.h, self.params, self.max_depth - 1, self.idxs[left_idx])\n",
    "        self.right = TreeBooster(self.X, self.g, self.h, self.params, self.max_depth - 1, self.idxs[right_idx])\n",
    "    \n",
    "    def _find_better_split(self, feature_idx):\n",
    "        # 取出这一列特征\n",
    "        x = self.X.values[self.idxs, feature_idx]\n",
    "        # 取出所有样本的g和h导数\n",
    "        g, h = self.g[self.idxs], self.h[self.idxs]\n",
    "        \n",
    "        # 这一列特征值从小到大，对样本进行排序\n",
    "        sort_idx = np.argsort(x)\n",
    "        sort_g, sort_h, sort_x = g[sort_idx], h[sort_idx], x[sort_idx]  # g和h也跟随排序\n",
    "        \n",
    "        sum_g, sum_h = g.sum(), h.sum()\n",
    "        sum_g_right, sum_h_right = sum_g, sum_h\n",
    "        sum_g_left, sum_h_left = 0., 0.\n",
    "\n",
    "        # 遍历每一个样本\n",
    "        for i in range(0, self.n-1):\n",
    "            g_i, h_i, x_i, x_i_next = sort_g[i], sort_h[i], sort_x[i], sort_x[i+1]\n",
    "            \n",
    "            # 以样本i的特征值作为分割点，计算H_left,G_left,H_right,G_right\n",
    "            sum_g_left += g_i; sum_g_right -= g_i\n",
    "            sum_h_left += h_i; sum_h_right -= h_i\n",
    "            \n",
    "            # 子树不能太小\n",
    "            if sum_h_left < self.min_child_weight or sum_h_right < self.min_child_weight:\n",
    "                continue\n",
    "            \n",
    "            # 求分裂和不分裂的目标值之差，寻找差距最大的，也就是分裂后目标值变的更小的\n",
    "            gain = 0.5 * ((sum_g_left**2 / (sum_h_left + self.reg_lambda)) + (sum_g_right**2 / (sum_h_right + self.reg_lambda)) - (sum_g**2 / (sum_h + self.reg_lambda))) - self.gamma\n",
    "            if gain > self.best_score_so_far: \n",
    "                self.split_feature_idx = feature_idx # 用哪个特征作为条件\n",
    "                self.best_score_so_far = gain\n",
    "                self.threshold = (x_i+x_i_next)/2 # 用哪个值作为分割点\n",
    "                self.is_leaf=False\n",
    "                \n",
    "    def predict(self, X):\n",
    "        return np.array([self._predict_row(row) for i, row in X.iterrows()])\n",
    "    \n",
    "    def get_score_by_weight(self,scores):\n",
    "        if self.is_leaf:\n",
    "            return \n",
    "        scores[self.split_feature_idx]+=1.0\n",
    "        self.left.get_score_by_weight(scores)\n",
    "        self.right.get_score_by_weight(scores)\n",
    "        \n",
    "    def plot_tree(self,dot,feature_names,parent,is_left=False):\n",
    "        if self.is_leaf:\n",
    "            dot.node(str(id(self)), f'left={self.value*self.learning_rate}') # 仿照xgboost，这里要乘以学习率再画出来，就像boosting推理过程一样\n",
    "        else: \n",
    "            dot.node(str(id(self)), f'{feature_names[self.split_feature_idx]}<={self.threshold}')\n",
    "            self.left.plot_tree(dot,feature_names,self,is_left=True)\n",
    "            self.right.plot_tree(dot,feature_names,self,is_left=False)\n",
    "        if parent:\n",
    "            dot.edge(str(id(parent)),str(id(self)),label='yes' if is_left else 'no')\n",
    "        return dot\n",
    "\n",
    "    # 预测就是根据树的结构，将样本落入到某个叶子节点，得到该叶子节点的Wj\n",
    "    def _predict_row(self, row):\n",
    "        if self.is_leaf: \n",
    "            return self.value\n",
    "        child = self.left if row.iloc[self.split_feature_idx] <= self.threshold else self.right\n",
    "        return child._predict_row(row)"
   ]
  },
  {
   "cell_type": "markdown",
   "metadata": {},
   "source": [
    "# Model"
   ]
  },
  {
   "cell_type": "code",
   "execution_count": 61,
   "metadata": {},
   "outputs": [],
   "source": [
    "class XGBoostModel():\n",
    "    '''XGBoost from Scratch\n",
    "    '''\n",
    "    \n",
    "    def __init__(self, params, random_seed=None):\n",
    "        self.params = defaultdict(lambda: None, params)\n",
    "        self.subsample = self.params['subsample'] if self.params['subsample'] else 1.0\n",
    "        self.learning_rate = self.params['learning_rate'] if self.params['learning_rate'] else 0.3\n",
    "        self.base_prediction = self.params['base_score'] if self.params['base_score'] else 0.5\n",
    "        self.max_depth = self.params['max_depth'] if self.params['max_depth'] else 5\n",
    "        self.rng = np.random.default_rng(seed=random_seed)\n",
    "                \n",
    "    def fit(self, X, y, objective, num_boost_round, verbose=False):\n",
    "        current_predictions = self.base_prediction * np.ones(shape=y.shape)\n",
    "        self.boosters = []\n",
    "        for i in range(num_boost_round):\n",
    "            gradients = objective.gradient(y, current_predictions) # 每个样本的Loss一阶导数，输入是目标值和累计预测值\n",
    "            hessians = objective.hessian(y, current_predictions)   # 每个样本的Loss二阶导数，输入是目标值和累计预测值\n",
    "            sample_idxs = None if self.subsample == 1.0 else self.rng.choice(len(y), size=math.floor(self.subsample*len(y)), replace=False) # 样本采样，这里先当全部样本都进入当前Tree的训练\n",
    "            booster = TreeBooster(X, gradients, hessians, self.params, self.max_depth, sample_idxs) # 根据导数和样本，以目标函数最优为目标，就能生成一棵树，然后以目标函数最优直接可以算出各叶子节点的W值\n",
    "            current_predictions += self.learning_rate * booster.predict(X)  # 更新预测值（不断boost提升而来）\n",
    "            self.boosters.append(booster)\n",
    "            if verbose: \n",
    "                print(f'[{i}] train loss = {objective.loss(y, current_predictions)}')\n",
    "            \n",
    "    def predict(self, X):\n",
    "        # 逐步提升预测值\n",
    "        return (self.base_prediction + self.learning_rate * np.sum([booster.predict(X) for booster in self.boosters], axis=0))\n",
    "    \n",
    "    # 特征重要性\n",
    "    def get_score(self, importance_type='weight'):\n",
    "        if importance_type not in ['weight']:\n",
    "            raise ValueError('Invalid importance_type')\n",
    "        \n",
    "        # feature inddx -> score\n",
    "        scores=defaultdict(int)\n",
    "        \n",
    "        if importance_type == 'weight':    \n",
    "            for booster in self.boosters:\n",
    "                booster.get_score_by_weight(scores)\n",
    "        return scores\n",
    "    \n",
    "    # 绘制树图像\n",
    "    def plot_tree(self,feature_names,num_trees=0):\n",
    "        dot = Digraph(comment=f'Booster Tree {num_trees}')\n",
    "        return self.boosters[num_trees].plot_tree(dot,feature_names,None)"
   ]
  },
  {
   "cell_type": "markdown",
   "metadata": {},
   "source": [
    "# Train&Fit Regression"
   ]
  },
  {
   "cell_type": "code",
   "execution_count": 62,
   "metadata": {},
   "outputs": [],
   "source": [
    "from sklearn.datasets import fetch_california_housing,load_diabetes\n",
    "from sklearn.model_selection import train_test_split\n",
    "    \n",
    "X, y = load_diabetes(as_frame=True, return_X_y=True)\n",
    "X_train, X_test, y_train, y_test = train_test_split(X, y, test_size=0.3, random_state=43)"
   ]
  },
  {
   "cell_type": "code",
   "execution_count": 63,
   "metadata": {},
   "outputs": [],
   "source": [
    "class SquaredErrorObjective():\n",
    "    # Loss\n",
    "    # (y_i-pred_i_minus_1)^2 / 2\n",
    "    def loss(self, y, pred):\n",
    "        return np.mean(((y - pred)**2)*0.5)\n",
    "    \n",
    "    # Loss关于Pred的一阶导数\n",
    "    def gradient(self, y, pred):\n",
    "        return pred - y\n",
    "    \n",
    "    # Loss关于Pred的二阶导数\n",
    "    def hessian(self, y, pred):\n",
    "        return np.ones(len(y))"
   ]
  },
  {
   "cell_type": "code",
   "execution_count": 64,
   "metadata": {},
   "outputs": [],
   "source": [
    "params = {\n",
    "    'learning_rate': 0.1,\n",
    "    'max_depth': 5,\n",
    "    'subsample': 1,\n",
    "    'reg_lambda': 1.5,\n",
    "    'gamma': 0.0,\n",
    "    'min_child_weight': 25,\n",
    "    'base_score': 0.0,\n",
    "    'tree_method': 'exact',\n",
    "    'objective': 'reg:squarederror'\n",
    "}\n",
    "num_boost_round = 50\n",
    "\n",
    "# train the from-scratch XGBoost model\n",
    "model_scratch = XGBoostModel(params)\n",
    "model_scratch.fit(X_train, y_train, SquaredErrorObjective(), num_boost_round, verbose=False)\n",
    "\n",
    "# train the library XGBoost model\n",
    "dtrain = xgb.DMatrix(X_train, label=y_train)\n",
    "dtest = xgb.DMatrix(X_test, label=y_test)\n",
    "model_xgb = xgb.train(params, dtrain, num_boost_round)"
   ]
  },
  {
   "cell_type": "code",
   "execution_count": 65,
   "metadata": {},
   "outputs": [
    {
     "name": "stdout",
     "output_type": "stream",
     "text": [
      "scratch loss: 1627.5459107847084\n",
      "xgboost loss: 1698.7818275946036\n"
     ]
    }
   ],
   "source": [
    "pred_scratch = model_scratch.predict(X_test)\n",
    "pred_xgb = model_xgb.predict(dtest)\n",
    "print(f'scratch loss: {SquaredErrorObjective().loss(y_test, pred_scratch)}')\n",
    "print(f'xgboost loss: {SquaredErrorObjective().loss(y_test, pred_xgb)}')"
   ]
  },
  {
   "cell_type": "markdown",
   "metadata": {},
   "source": [
    "# Train&Fit Classify"
   ]
  },
  {
   "cell_type": "code",
   "execution_count": 66,
   "metadata": {},
   "outputs": [],
   "source": [
    "from sklearn.datasets import load_breast_cancer\n",
    "from sklearn.model_selection import train_test_split\n",
    "    \n",
    "X, y = load_breast_cancer(as_frame=True, return_X_y=True)\n",
    "X_train, X_test, y_train, y_test = train_test_split(X, y, test_size=0.3, random_state=43)"
   ]
  },
  {
   "cell_type": "code",
   "execution_count": 67,
   "metadata": {},
   "outputs": [],
   "source": [
    "# 补充实现BCE二值交叉熵损失【二分类问题】\n",
    "class BinaryCrossEntropybjective():\n",
    "    # BCE损失函数与导数：https://blog.csdn.net/zzl12880/article/details/128403845\n",
    "    def loss(self, y, pred):\n",
    "        return np.mean(-(y * np.log(1/(1+np.exp(-pred))) + (1 - y) * np.log(1 - np.exp(-pred))))\n",
    "    \n",
    "    # Loss关于Pred的一阶导数\n",
    "    def gradient(self, y, pred):\n",
    "        return 1.0/(1.0+np.exp(-pred)) - y\n",
    "    \n",
    "    # Loss关于Pred的二阶导数\n",
    "    def hessian(self, y, pred):\n",
    "        sigmoid_value= 1.0/(1.0+np.exp(-pred))\n",
    "        return sigmoid_value * (1.0 - sigmoid_value)"
   ]
  },
  {
   "cell_type": "code",
   "execution_count": 68,
   "metadata": {},
   "outputs": [],
   "source": [
    "params = {\n",
    "    'learning_rate': 0.1,\n",
    "    'max_depth': 5,\n",
    "    'subsample': 1.0,\n",
    "    'reg_lambda': 1.5,\n",
    "    'gamma': 0.0,\n",
    "    'min_child_weight': 25,\n",
    "    'base_score': 0.5,\n",
    "    'tree_method': 'exact',\n",
    "    'objective': 'binary:logitraw'\n",
    "}\n",
    "num_boost_round = 50\n",
    "\n",
    "# train the from-scratch XGBoost model\n",
    "model_scratch = XGBoostModel(params, random_seed=42)\n",
    "model_scratch.fit(X_train, y_train, BinaryCrossEntropybjective(), num_boost_round, verbose=False)\n",
    "\n",
    "def logregobj(preds, dtrain):\n",
    "    labels = dtrain.get_label()\n",
    "    preds = 1.0 / (1.0 + np.exp(-preds))\n",
    "    grad = preds - labels\n",
    "    hess = preds * (1.0 - preds)\n",
    "    return grad, hess\n",
    "\n",
    "# train the library XGBoost model\n",
    "dtrain = xgb.DMatrix(X_train, label=y_train)\n",
    "dtest = xgb.DMatrix(X_test, label=y_test)\n",
    "model_xgb = xgb.train(params, dtrain, num_boost_round,obj=logregobj)"
   ]
  },
  {
   "cell_type": "code",
   "execution_count": 69,
   "metadata": {},
   "outputs": [],
   "source": [
    "pred_scratch=model_scratch.predict(X_test)\n",
    "pred_xgb=model_xgb.predict(dtest)"
   ]
  },
  {
   "cell_type": "code",
   "execution_count": 70,
   "metadata": {},
   "outputs": [
    {
     "name": "stdout",
     "output_type": "stream",
     "text": [
      "scratch acc:94.15204678362574\n",
      "xgboost acc:95.32163742690058\n"
     ]
    }
   ],
   "source": [
    "def accuracy(y_test,pred):\n",
    "    probs=1/(1+np.exp(-pred))\n",
    "    classes=np.zeros_like(probs)\n",
    "    classes[probs>0.5]=1\n",
    "\n",
    "    # 计算准确率\n",
    "    acc=(classes==y_test).sum()/len(classes)*100\n",
    "    # numpy转float \n",
    "    return acc.item()\n",
    "\n",
    "# 对比和xgboost官方的差异\n",
    "print(f'scratch acc:{accuracy(y_test,pred_scratch)}')\n",
    "print(f'xgboost acc:{accuracy(y_test,pred_xgb)}') "
   ]
  },
  {
   "cell_type": "markdown",
   "metadata": {},
   "source": [
    "# 特征重要性"
   ]
  },
  {
   "cell_type": "code",
   "execution_count": 71,
   "metadata": {},
   "outputs": [
    {
     "name": "stdout",
     "output_type": "stream",
     "text": [
      "scratch scores:{'mean area': 1.0, 'mean concave points': 3.0, 'mean concavity': 1.0, 'worst area': 2.0, 'worst concave points': 6.0, 'worst concavity': 1.0, 'worst perimeter': 7.0, 'worst radius': 1.0, 'worst texture': 1.0}\n",
      "xgboost scores:{'mean area': 1.0, 'mean concave points': 3.0, 'mean concavity': 1.0, 'worst area': 2.0, 'worst concave points': 6.0, 'worst concavity': 1.0, 'worst perimeter': 7.0, 'worst radius': 1.0, 'worst texture': 1.0}\n"
     ]
    }
   ],
   "source": [
    "# 特征index转特征name\n",
    "def mapping_score_to_features(score):\n",
    "    global X\n",
    "    features=X.columns\n",
    "    return {features[i]:s for i,s in score.items()}\n",
    "\n",
    "# 特征重要性\n",
    "scratch_score=mapping_score_to_features( model_scratch.get_score(importance_type=\"weight\") )\n",
    "xgboost_score=model_xgb.get_score(importance_type=\"weight\")\n",
    "\n",
    "# 按特征名排序\n",
    "scratch_score = dict(sorted(scratch_score.items(), key=lambda item: item[0]))\n",
    "xgboost_score = dict(sorted(xgboost_score.items(), key=lambda item: item[0]))\n",
    "\n",
    "print(f'scratch scores:{scratch_score}')\n",
    "print(f'xgboost scores:{xgboost_score}')"
   ]
  },
  {
   "cell_type": "code",
   "execution_count": 72,
   "metadata": {},
   "outputs": [
    {
     "data": {
      "text/plain": [
       "<BarContainer object of 9 artists>"
      ]
     },
     "execution_count": 72,
     "metadata": {},
     "output_type": "execute_result"
    },
    {
     "data": {
      "image/png": "[encoded data removed]",
      "text/plain": [
       "<Figure size 1000x300 with 2 Axes>"
      ]
     },
     "metadata": {},
     "output_type": "display_data"
    }
   ],
   "source": [
    "plt.figure(figsize=(10,3))\n",
    "plt.subplot(1,2,1)\n",
    "plt.title('scratch scores')\n",
    "plt.xticks(rotation=90)\n",
    "plt.bar(scratch_score.keys(),scratch_score.values())\n",
    "\n",
    "plt.subplot(1,2,2)\n",
    "plt.title('xgboost scores')\n",
    "plt.xticks(rotation=90)\n",
    "plt.bar(scratch_score.keys(),scratch_score.values())"
   ]
  },
  {
   "cell_type": "markdown",
   "metadata": {},
   "source": [
    "# 画出决策树"
   ]
  },
  {
   "cell_type": "code",
   "execution_count": 73,
   "metadata": {},
   "outputs": [
    {
     "data": {
      "image/svg+xml": [
       "<?xml version=\"1.0\" encoding=\"UTF-8\" standalone=\"no\"?>\n",
       "<!DOCTYPE svg PUBLIC \"-//W3C//DTD SVG 1.1//EN\"\n",
       " \"http://www.w3.org/Graphics/SVG/1.1/DTD/svg11.dtd\">\n",
       "<!-- Generated by graphviz version 12.1.2 (20240928.0832)\n",
       " -->\n",
       "<!-- Pages: 1 -->\n",
       "<svg width=\"582pt\" height=\"221pt\"\n",
       " viewBox=\"0.00 0.00 581.68 221.00\" xmlns=\"http://www.w3.org/2000/svg\" xmlns:xlink=\"http://www.w3.org/1999/xlink\">\n",
       "<g id=\"graph0\" class=\"graph\" transform=\"scale(1 1) rotate(0) translate(4 217)\">\n",
       "<polygon fill=\"white\" stroke=\"none\" points=\"-4,4 -4,-217 577.68,-217 577.68,4 -4,4\"/>\n",
       "<!-- 1987667141168 -->\n",
       "<g id=\"node1\" class=\"node\">\n",
       "<title>1987667141168</title>\n",
       "<ellipse fill=\"none\" stroke=\"black\" cx=\"347.3\" cy=\"-195\" rx=\"130.68\" ry=\"18\"/>\n",
       "<text text-anchor=\"middle\" x=\"347.3\" y=\"-189.95\" font-family=\"Times New Roman,serif\" font-size=\"14.00\">worst concave points&lt;=0.14235</text>\n",
       "</g>\n",
       "<!-- 1987667146640 -->\n",
       "<g id=\"node2\" class=\"node\">\n",
       "<title>1987667146640</title>\n",
       "<ellipse fill=\"none\" stroke=\"black\" cx=\"239.3\" cy=\"-106.5\" rx=\"81.55\" ry=\"18\"/>\n",
       "<text text-anchor=\"middle\" x=\"239.3\" y=\"-101.45\" font-family=\"Times New Roman,serif\" font-size=\"14.00\">mean area&lt;=495.8</text>\n",
       "</g>\n",
       "<!-- 1987667141168&#45;&gt;1987667146640 -->\n",
       "<g id=\"edge3\" class=\"edge\">\n",
       "<title>1987667141168&#45;&gt;1987667146640</title>\n",
       "<path fill=\"none\" stroke=\"black\" d=\"M325.97,-176.91C309.74,-163.91 287.21,-145.87 269.18,-131.43\"/>\n",
       "<polygon fill=\"black\" stroke=\"black\" points=\"271.4,-128.73 261.41,-125.21 267.03,-134.19 271.4,-128.73\"/>\n",
       "<text text-anchor=\"middle\" x=\"311.98\" y=\"-145.7\" font-family=\"Times New Roman,serif\" font-size=\"14.00\">yes</text>\n",
       "</g>\n",
       "<!-- 1987667137472 -->\n",
       "<g id=\"node5\" class=\"node\">\n",
       "<title>1987667137472</title>\n",
       "<ellipse fill=\"none\" stroke=\"black\" cx=\"456.3\" cy=\"-106.5\" rx=\"117.37\" ry=\"18\"/>\n",
       "<text text-anchor=\"middle\" x=\"456.3\" y=\"-101.45\" font-family=\"Times New Roman,serif\" font-size=\"14.00\">left=&#45;0.15257210493784457</text>\n",
       "</g>\n",
       "<!-- 1987667141168&#45;&gt;1987667137472 -->\n",
       "<g id=\"edge4\" class=\"edge\">\n",
       "<title>1987667141168&#45;&gt;1987667137472</title>\n",
       "<path fill=\"none\" stroke=\"black\" d=\"M368.84,-176.91C385.26,-163.88 408.08,-145.77 426.29,-131.32\"/>\n",
       "<polygon fill=\"black\" stroke=\"black\" points=\"427.97,-134.45 433.63,-125.49 423.62,-128.97 427.97,-134.45\"/>\n",
       "<text text-anchor=\"middle\" x=\"418.32\" y=\"-145.7\" font-family=\"Times New Roman,serif\" font-size=\"14.00\">no</text>\n",
       "</g>\n",
       "<!-- 1987667146832 -->\n",
       "<g id=\"node3\" class=\"node\">\n",
       "<title>1987667146832</title>\n",
       "<ellipse fill=\"none\" stroke=\"black\" cx=\"114.3\" cy=\"-18\" rx=\"114.3\" ry=\"18\"/>\n",
       "<text text-anchor=\"middle\" x=\"114.3\" y=\"-12.95\" font-family=\"Times New Roman,serif\" font-size=\"14.00\">left=0.12469713436521242</text>\n",
       "</g>\n",
       "<!-- 1987667146640&#45;&gt;1987667146832 -->\n",
       "<g id=\"edge1\" class=\"edge\">\n",
       "<title>1987667146640&#45;&gt;1987667146832</title>\n",
       "<path fill=\"none\" stroke=\"black\" d=\"M215.2,-88.82C196.13,-75.62 169.27,-57.04 148.06,-42.36\"/>\n",
       "<polygon fill=\"black\" stroke=\"black\" points=\"150.22,-39.6 140,-36.78 146.23,-45.35 150.22,-39.6\"/>\n",
       "<text text-anchor=\"middle\" x=\"197\" y=\"-57.2\" font-family=\"Times New Roman,serif\" font-size=\"14.00\">yes</text>\n",
       "</g>\n",
       "<!-- 1987667140736 -->\n",
       "<g id=\"node4\" class=\"node\">\n",
       "<title>1987667140736</title>\n",
       "<ellipse fill=\"none\" stroke=\"black\" cx=\"365.3\" cy=\"-18\" rx=\"118.91\" ry=\"18\"/>\n",
       "<text text-anchor=\"middle\" x=\"365.3\" y=\"-12.95\" font-family=\"Times New Roman,serif\" font-size=\"14.00\">left=0.052161513487282575</text>\n",
       "</g>\n",
       "<!-- 1987667146640&#45;&gt;1987667140736 -->\n",
       "<g id=\"edge2\" class=\"edge\">\n",
       "<title>1987667146640&#45;&gt;1987667140736</title>\n",
       "<path fill=\"none\" stroke=\"black\" d=\"M263.3,-89.03C282.49,-75.85 309.65,-57.2 331.12,-42.47\"/>\n",
       "<polygon fill=\"black\" stroke=\"black\" points=\"333.02,-45.41 339.29,-36.86 329.06,-39.63 333.02,-45.41\"/>\n",
       "<text text-anchor=\"middle\" x=\"320.34\" y=\"-57.2\" font-family=\"Times New Roman,serif\" font-size=\"14.00\">no</text>\n",
       "</g>\n",
       "</g>\n",
       "</svg>\n"
      ],
      "text/plain": [
       "<graphviz.graphs.Digraph at 0x1cecaf0bc10>"
      ]
     },
     "execution_count": 73,
     "metadata": {},
     "output_type": "execute_result"
    }
   ],
   "source": [
    "# 画出第5棵树\n",
    "model_scratch.plot_tree(num_trees=5,feature_names=X.columns)"
   ]
  },
  {
   "cell_type": "code",
   "execution_count": 74,
   "metadata": {},
   "outputs": [
    {
     "data": {
      "text/plain": [
       "<Axes: >"
      ]
     },
     "execution_count": 74,
     "metadata": {},
     "output_type": "execute_result"
    },
    {
     "data": {
      "image/png": "[encoded data removed]",
      "text/plain": [
       "<Figure size 640x480 with 1 Axes>"
      ]
     },
     "metadata": {},
     "output_type": "display_data"
    }
   ],
   "source": [
    "# 画出第5棵树\n",
    "xgb.plot_tree(model_xgb,num_trees=5)"
   ]
  }
 ],
 "metadata": {
  "kernelspec": {
   "display_name": "Python 3",
   "language": "python",
   "name": "python3"
  },
  "language_info": {
   "codemirror_mode": {
    "name": "ipython",
    "version": 3
   },
   "file_extension": ".py",
   "mimetype": "text/x-python",
   "name": "python",
   "nbconvert_exporter": "python",
   "pygments_lexer": "ipython3",
   "version": "3.10.14"
  }
 },
 "nbformat": 4,
 "nbformat_minor": 2
}
